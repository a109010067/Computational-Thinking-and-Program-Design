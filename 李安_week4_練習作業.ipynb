{
  "nbformat": 4,
  "nbformat_minor": 0,
  "metadata": {
    "colab": {
      "name": "李安-week4-練習作業.ipynb",
      "provenance": [],
      "collapsed_sections": [],
      "authorship_tag": "ABX9TyMn1YO+cPK3yWCtViVlVCxZ",
      "include_colab_link": true
    },
    "kernelspec": {
      "name": "python3",
      "display_name": "Python 3"
    }
  },
  "cells": [
    {
      "cell_type": "markdown",
      "metadata": {
        "id": "view-in-github",
        "colab_type": "text"
      },
      "source": [
        "<a href=\"https://colab.research.google.com/github/a109010067/Computational-Thinking-and-Program-Design/blob/main/%E6%9D%8E%E5%AE%89_week4_%E7%B7%B4%E7%BF%92%E4%BD%9C%E6%A5%AD.ipynb\" target=\"_parent\"><img src=\"https://colab.research.google.com/assets/colab-badge.svg\" alt=\"Open In Colab\"/></a>"
      ]
    },
    {
      "cell_type": "markdown",
      "metadata": {
        "id": "5_3w8oAaXwwV"
      },
      "source": [
        "#隨堂練習"
      ]
    },
    {
      "cell_type": "markdown",
      "metadata": {
        "id": "D6GjkBnhYAjl"
      },
      "source": [
        "#課後練習"
      ]
    },
    {
      "cell_type": "markdown",
      "metadata": {
        "id": "xUj-Rl-ZYhMp"
      },
      "source": [
        "**一則新聞報導，提出你對新聞系（OO系）學生為什麼要學「運算思維與程式設計」的見解。（告訴我新聞連結，以及你的觀點即可。）**\r\n"
      ]
    },
    {
      "cell_type": "code",
      "metadata": {
        "id": "p0dkLn49YtXt"
      },
      "source": [
        ""
      ],
      "execution_count": null,
      "outputs": []
    },
    {
      "cell_type": "markdown",
      "metadata": {
        "id": "khhqhgn9bk9h"
      },
      "source": [
        "https://medium.com/dd-story-hub/p-%E5%AF%A6%E7%BF%92%E7%B6%93%E9%A9%97%E8%AB%87-%E6%96%B0%E8%81%9E%E7%B7%A8%E8%BC%AF%E7%82%BA%E4%BB%80%E9%BA%BC%E8%A6%81%E5%AD%B8%E7%A8%8B%E5%BC%8F%E8%A8%AD%E8%A8%88-bb375fc83bf6"
      ]
    },
    {
      "cell_type": "markdown",
      "metadata": {
        "id": "SimXE7jHbqaP"
      },
      "source": [
        "剛上這堂課時，我其實內心充滿疑惑，不懂為什麼新聞系要學程式設計，但實際認真學習後，發現程式設計訓練的不只是一個人對於電腦的使用能力，也可增強我的邏輯思考，讓我多一種工具能夠適用，更有彈性，工作效率提高，透過學習程式設計來收集大數據資料，分析正反兩面不同的意見和角度，更快速且更廣範的了解資訊，讓每篇報導都更加精確明瞭，多元的邏輯分析和資料處理能力，讓我不只在寫新聞的時候更加有放向，也讓我平時在思考問題時更加有條理"
      ]
    },
    {
      "cell_type": "code",
      "metadata": {
        "id": "mCz3SjcfboNk"
      },
      "source": [
        ""
      ],
      "execution_count": null,
      "outputs": []
    }
  ]
}