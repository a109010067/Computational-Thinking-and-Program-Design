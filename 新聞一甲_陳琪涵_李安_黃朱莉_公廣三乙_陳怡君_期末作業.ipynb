{
  "nbformat": 4,
  "nbformat_minor": 0,
  "metadata": {
    "colab": {
      "name": "新聞一甲 陳琪涵 李安 黃朱莉 公廣三乙 陳怡君-期末作業 ",
      "provenance": [],
      "collapsed_sections": [],
      "include_colab_link": true
    },
    "kernelspec": {
      "name": "python3",
      "display_name": "Python 3"
    },
    "language_info": {
      "name": "python"
    }
  },
  "cells": [
    {
      "cell_type": "markdown",
      "metadata": {
        "id": "view-in-github",
        "colab_type": "text"
      },
      "source": [
        "<a href=\"https://colab.research.google.com/github/a109010067/Computational-Thinking-and-Program-Design/blob/main/%E6%96%B0%E8%81%9E%E4%B8%80%E7%94%B2_%E9%99%B3%E7%90%AA%E6%B6%B5_%E6%9D%8E%E5%AE%89_%E9%BB%83%E6%9C%B1%E8%8E%89_%E5%85%AC%E5%BB%A3%E4%B8%89%E4%B9%99_%E9%99%B3%E6%80%A1%E5%90%9B_%E6%9C%9F%E6%9C%AB%E4%BD%9C%E6%A5%AD.ipynb\" target=\"_parent\"><img src=\"https://colab.research.google.com/assets/colab-badge.svg\" alt=\"Open In Colab\"/></a>"
      ]
    },
    {
      "cell_type": "markdown",
      "metadata": {
        "id": "6S8JcP5h-xbx"
      },
      "source": [
        "##**4-2-4 問題拆解 - 打造你的聊天機器人**##\n"
      ]
    },
    {
      "cell_type": "markdown",
      "metadata": {
        "id": "dbI4PpmV_FFk"
      },
      "source": [
        "主人您好，我叫Zyxo49，是你的防疫機器人。\n",
        "\n",
        "在疫情爆發危險期間，可以幫助你獲取最準確的資訊。\n",
        "\n",
        "很高興有機會能為主人服務。\n",
        "\n",
        "嗨！妳好。\n",
        "\n",
        "請問大名？：kiki\n",
        "\n",
        "kiki很高興認識妳，有什麼是我可以幫妳服務的嗎?\n",
        "\n",
        "請問今天體溫多少？\n",
        "\n",
        "36.7，體溫正常\n",
        "\n",
        "36.7，幸好是正常的\n",
        "\n",
        "今天台灣幾位確診？\n",
        "\n",
        "共185例\n",
        "\n",
        "天啊！185!\n",
        "\n",
        "是的沒看錯，180例國內本土案例，5例境外移入，共185例\n",
        "\n",
        "政府有宣布什麼重要防疫資訊嗎?現在升到幾級了?\n",
        "\n",
        "雙北目前已進入防疫3級管制\n",
        "\n",
        "那我應該要注意什麼\n",
        "\n",
        "提醒主人外出時務必全程配戴口罩，避免室內5人、室外10人以上之聚會\n",
        "\n",
        "那我去上學怎麼辦\n",
        "\n",
        "請問主人在哪間學校就讀\n",
        "\n",
        "世新大學\n",
        "\n",
        "世新大學已公布全面遠距上課 請主人不用擔心\n",
        "\n",
        "\n",
        "什麼情況下會進入的第四級警戒? \n",
        "\n",
        "跟主人介紹一下防疫等級第四等級為14天內每日平均確診ㄧ百人以上且一半以上找不到傳播鏈。 \n",
        "\n",
        "那請問本國現在有疫苗可以打嗎？ \n",
        "\n",
        "有的 本國預計8月底有1000萬疫苗，若每人打2劑，即500萬人可施打 \n",
        "\n",
        "我屬於第幾類?\n",
        "\n",
        "主人是大學生屬於12類。\n",
        "\n",
        "第12類的人在8月都可以打到疫苗嗎?\n",
        "\n",
        "False\n",
        "\n",
        "主人可能需要等到中央政府公布確切時間才能確定!\n",
        "\n",
        "好的，我會的謝謝Zyxo49！\n",
        "\n",
        "再次提醒主人 務必勤洗手、戴口罩、少群聚、保持室內1公尺室外1.5的防疫距離 祝福主人平安健康，一起度過疫情難關!\n"
      ]
    },
    {
      "cell_type": "code",
      "metadata": {
        "colab": {
          "base_uri": "https://localhost:8080/"
        },
        "id": "j2p20xJn-qMK",
        "outputId": "43633dd8-5a65-4cc5-cee0-bd915426c762"
      },
      "source": [
        "# 1.聊天機器人自我介紹\n",
        "print(\"主人您好，我叫Zyx049，是你的防疫機器人。\")\n",
        "print(f\"在疫情爆發危險期間，可以幫助你獲取最準確的資訊。\")\n",
        "\n",
        "hello=\"很高興有機會能為主人服務。\"\n",
        "print(hello)\n"
      ],
      "execution_count": null,
      "outputs": [
        {
          "output_type": "stream",
          "text": [
            "主人您好，我叫Zyx049，是你的防疫機器人。\n",
            "在疫情爆發危險期間，可以幫助你獲取最準確的資訊。\n",
            "很高興有機會能為主人服務。\n"
          ],
          "name": "stdout"
        }
      ]
    },
    {
      "cell_type": "code",
      "metadata": {
        "colab": {
          "base_uri": "https://localhost:8080/"
        },
        "id": "S1yjIqlq_Mrr",
        "outputId": "6be5156d-eb55-427f-91a4-9dfcf6d64b43"
      },
      "source": [
        "#2.打招呼，取得對方名字\n",
        "print(\"嗨！妳好。\")\n",
        "name=input(\"請問大名？：\")\n",
        "print(f\"{name},很高興認識妳，有什麼是我可以幫妳服務的嗎?\")\n",
        "print(\"請問今天體溫多少？\")\n",
        "\n",
        "體溫=float(input(\"輸入體溫\"))\n",
        "if 體溫 <36:\n",
        "  print(\"體溫過低\")\n",
        "elif 體溫 <38:\n",
        "  print(\"體溫正常\")\n",
        "elif 體溫 <39:\n",
        "  print(\"體溫有點燒\")\n",
        "elif 體溫 >39:\n",
        "  print(\"體溫很燒\")\n",
        "\n",
        "print(\"36.7，幸好是正常的\")\n"
      ],
      "execution_count": null,
      "outputs": [
        {
          "output_type": "stream",
          "text": [
            "嗨！妳好。\n",
            "請問大名？：Kiki\n",
            "Kiki,很高興認識妳，有什麼是我可以幫妳服務的嗎?\n",
            "請問今天體溫多少？\n",
            "輸入體溫36.7\n",
            "體溫正常\n",
            "36.7，幸好是正常的\n"
          ],
          "name": "stdout"
        }
      ]
    },
    {
      "cell_type": "code",
      "metadata": {
        "colab": {
          "base_uri": "https://localhost:8080/"
        },
        "id": "C-XYVFSU_RXE",
        "outputId": "df0e233f-8e41-42c0-9cf9-8a7dad831cc7"
      },
      "source": [
        "#3.疫情資訊\n",
        "number=input(\"今天台灣幾位確診？:\")\n",
        "print(f\"共{number}例\")\n",
        "print(f\"天啊！{number}\")\n",
        "print(\"是的沒看錯，180例國內本土案例，5例境外移入，共185例\")\n",
        "\n",
        "level=input(\"那政府有宣布什麼重要防疫資訊嗎?現在升到幾級了?:\")\n",
        "print(f\"雙北目前已進入防疫{level}級管制\")\n",
        "\n",
        "print(\"那我應該要注意什麼?\")\n",
        "print(\"提醒主人外出時務必全程配戴口罩，避免室內5人、室外10人以上之聚會\")"
      ],
      "execution_count": null,
      "outputs": [
        {
          "output_type": "stream",
          "text": [
            "今天台灣幾位確診？:185\n",
            "共185例\n",
            "天啊！185\n",
            "是的沒看錯，180例國內本土案例，5例境外移入，共185例\n",
            "那政府有宣布什麼重要防疫資訊嗎?現在升到幾級了?:3\n",
            "雙北目前已進入防疫3級管制\n",
            "那我應該要注意什麼?\n",
            "提醒主人外出時務必全程配戴口罩，避免室內5人、室外10人以上之聚會\n"
          ],
          "name": "stdout"
        }
      ]
    },
    {
      "cell_type": "code",
      "metadata": {
        "colab": {
          "base_uri": "https://localhost:8080/"
        },
        "id": "2DRakNXIy7Bi",
        "outputId": "ac491fef-67a1-4b1b-f616-e7b4d63a1195"
      },
      "source": [
        "#4.學校如何面對疫情\n",
        "print(\"那我去上學怎麼辦?\")\n",
        "school=input(\"請問主人在哪間學校就讀?\")\n",
        "print(f\"{school}已公布全面遠距上課，請主人不用擔心!\")\n",
        "print(\"好的，謝謝！\")\n"
      ],
      "execution_count": null,
      "outputs": [
        {
          "output_type": "stream",
          "text": [
            "那我去上學怎麼辦?\n",
            "請問主人在哪間學校就讀?世新\n",
            "世新已公布全面遠距上課，請主人不用擔心!\n",
            "好的，謝謝！\n"
          ],
          "name": "stdout"
        }
      ]
    },
    {
      "cell_type": "code",
      "metadata": {
        "id": "zWJdSlV-r9v0",
        "colab": {
          "base_uri": "https://localhost:8080/"
        },
        "outputId": "c3199956-0554-430f-b2e8-ebf4cdfaf708"
      },
      "source": [
        "#5.疫苗施打情形\n",
        "print(\"什麼情況下會進入的第四級警戒?\")\n",
        "print(\"跟主人介紹一下防疫等級第四等級為14天內每日平均確診ㄧ百人以上且一半以上找不到傳播鏈。\")\n",
        "print(\"那請問本國現在有疫苗可以打嗎？\")\n",
        "print(\"有的 本國預計8月底有1000萬疫苗，若每人打2劑，即500萬人可施打\")\n",
        "print(\"我屬於第幾類?\")\n",
        "print(\"主人是大學生屬於12類。\")\n",
        "print(\"第12類的人在8月都可以打到疫苗嗎?\")\n",
        "\n",
        "月份=int(input(\"輸入月份\"))\n",
        "if 月份 <7:\n",
        "  print(\"無法\")\n",
        "elif 月份 <8:\n",
        "  print(\"無法\")\n",
        "elif 月份 <9:\n",
        "  print(\"無法\")\n",
        "elif 月份 > 8:\n",
        "  print(\"等到中央政府公布或許有機會 請主人等待\")\n",
        "\n",
        "print(\"主人可能需要等到中央政府公布確切時間才能確定!\")\n",
        "print(\"好的，我會的謝謝Zyxo49！\")\n",
        "print(\"再次提醒主人 務必勤洗手、戴口罩、少群聚、保持室內1公尺室外1.5的防疫距離 祝福主人平安健康，一起度過疫情難關!\")"
      ],
      "execution_count": null,
      "outputs": [
        {
          "output_type": "stream",
          "text": [
            "什麼情況下會進入的第四級警戒?\n",
            "跟主人介紹一下防疫等級第四等級為14天內每日平均確診ㄧ百人以上且一半以上找不到傳播鏈。\n",
            "那請問本國現在有疫苗可以打嗎？\n",
            "有的 本國預計8月底有1000萬疫苗，若每人打2劑，即500萬人可施打\n",
            "我屬於第幾類?\n",
            "主人是大學生屬於12類。\n",
            "第12類的人在8月都可以打到疫苗嗎?\n",
            "輸入月份8\n",
            "無法\n",
            "主人可能需要等到中央政府公布確切時間才能確定!\n",
            "好的，我會的謝謝Zyxo49！\n",
            "再次提醒主人 務必勤洗手、戴口罩、少群聚、保持室內1公尺室外1.5的防疫距離 祝福主人平安健康，一起度過疫情難關!\n"
          ],
          "name": "stdout"
        }
      ]
    },
    {
      "cell_type": "markdown",
      "metadata": {
        "id": "Qm5__-aiO-CI"
      },
      "source": [
        "組長：A109010097 新聞一甲 黃朱莉\n",
        "\n",
        "組員：A109010013 新聞一甲 陳琪涵\n",
        "\n",
        "   A109010067 新聞一甲 李安\n",
        "   \n",
        "   A107050203 公廣三乙 陳怡君"
      ]
    }
  ]
}