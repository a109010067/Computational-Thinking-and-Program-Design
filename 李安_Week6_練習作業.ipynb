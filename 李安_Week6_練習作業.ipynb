{
  "nbformat": 4,
  "nbformat_minor": 0,
  "metadata": {
    "colab": {
      "name": "李安-Week6-練習作業.ipynb",
      "provenance": [],
      "authorship_tag": "ABX9TyOCqOyCiceKpP3JCcwPYPNC",
      "include_colab_link": true
    },
    "kernelspec": {
      "name": "python3",
      "display_name": "Python 3"
    },
    "language_info": {
      "name": "python"
    }
  },
  "cells": [
    {
      "cell_type": "markdown",
      "metadata": {
        "id": "view-in-github",
        "colab_type": "text"
      },
      "source": [
        "<a href=\"https://colab.research.google.com/github/a109010067/Computational-Thinking-and-Program-Design/blob/main/%E6%9D%8E%E5%AE%89_Week6_%E7%B7%B4%E7%BF%92%E4%BD%9C%E6%A5%AD.ipynb\" target=\"_parent\"><img src=\"https://colab.research.google.com/assets/colab-badge.svg\" alt=\"Open In Colab\"/></a>"
      ]
    },
    {
      "cell_type": "code",
      "metadata": {
        "colab": {
          "base_uri": "https://localhost:8080/"
        },
        "id": "8KgVJykomNlQ",
        "outputId": "763121eb-d1d1-4677-d277-126d7c786f02"
      },
      "source": [
        "In [1]: print(5 + 2)  # 加\n",
        "   ...: print(5 - 2)  # 減\n",
        "   ...: print(5 * 2)  # 乘\n",
        "   ...: print(5 / 2)  # 除\n",
        "   ...: print(5 ** 2) # 次方\n",
        "   ...: print(5 // 2) # 商\n",
        "   ...: print(5 % 2)  # 餘數\n",
        "   ...: \n",
        "   ...: # 浮點數是用二進位表示小數，和我們習慣的十進位表示不同。\n",
        "   ...: print(0.1 + 0.1 + 0.1)"
      ],
      "execution_count": 1,
      "outputs": [
        {
          "output_type": "stream",
          "text": [
            "7\n",
            "3\n",
            "10\n",
            "2.5\n",
            "25\n",
            "2\n",
            "1\n",
            "0.30000000000000004\n"
          ],
          "name": "stdout"
        }
      ]
    },
    {
      "cell_type": "code",
      "metadata": {
        "colab": {
          "base_uri": "https://localhost:8080/"
        },
        "id": "o00hRCoxqC61",
        "outputId": "c4681c6e-d29b-4391-9b71-7dc61e7a89c3"
      },
      "source": [
        "In [5]: \n",
        "   ...: a = 5\n",
        "   ...: a = a + 2\n",
        "   ...: print(a)\n",
        "   ...: \n",
        "   ...: a += 2  # a = a + 2\n",
        "   ...: print(a)\n",
        "   ...: \n",
        "   ...: a -= 2  # a = a - 2\n",
        "   ...: print(a)\n",
        "   ...: \n",
        "   ...: a *= 2 # a = a * 2\n",
        "   ...: print(a)\n",
        "   ...: \n",
        "   ...: a /= 2 # a = a / 2\n",
        "   ...: print(a)\n",
        "   ...: \n",
        "   ...: a //= 2 # a = a // 2\n",
        "   ...: print(a)\n",
        "   ...: \n",
        "   ...: a %= 2 # a = a % 2\n",
        "   ...: print(a)\n",
        "   ...: \n",
        "   ...: a **= 2 # a = a**2\n",
        "   ...: print(a)"
      ],
      "execution_count": 2,
      "outputs": [
        {
          "output_type": "stream",
          "text": [
            "7\n",
            "9\n",
            "7\n",
            "14\n",
            "7.0\n",
            "3.0\n",
            "1.0\n",
            "1.0\n"
          ],
          "name": "stdout"
        }
      ]
    },
    {
      "cell_type": "code",
      "metadata": {
        "colab": {
          "base_uri": "https://localhost:8080/"
        },
        "id": "kjEOEn50ugtG",
        "outputId": "ba5bd847-2772-4d94-a46d-ca90a621e752"
      },
      "source": [
        "In  [9]: 1\n",
        "    ...: a = -2\n",
        "    ...: print(abs(a))             # 絕對值\n",
        "    ...: print(abs(-10))\n",
        "    ...: \n",
        "    ...: print(max(1, 2, 3, 4, 5)) # 極大值\n",
        "    ...: print(min(1, 2, 3, 4, 5)) # 極小值\n",
        "    ...: print(pow(2, 3))          # 次方 pow(a,b)為a的b次方\n",
        "    ...: print(round(5.8))         # 四捨五入\n",
        "    ...: print(round(3.14159, 2))  # 取小數點兩位死捨五入"
      ],
      "execution_count": 4,
      "outputs": [
        {
          "output_type": "stream",
          "text": [
            "2\n",
            "10\n",
            "5\n",
            "1\n",
            "8\n",
            "6\n",
            "3.14\n"
          ],
          "name": "stdout"
        }
      ]
    },
    {
      "cell_type": "code",
      "metadata": {
        "colab": {
          "base_uri": "https://localhost:8080/"
        },
        "id": "v8UA4UmCxu1F",
        "outputId": "aa9c266f-85d7-44f5-85d1-6b0c7b89d569"
      },
      "source": [
        "In [1 ]:1\n",
        "    ...: s1 =\"123\"\n",
        "    ...: s2 = \"456\"\n",
        "    ...: s3 = s1 + s2\n",
        "    ...: print(s3)\n",
        "    ...: \n",
        "    ...: # 複製字串\n",
        "    ...: s4 = s1 * 2\n",
        "    ...: print(s4)"
      ],
      "execution_count": 6,
      "outputs": [
        {
          "output_type": "stream",
          "text": [
            "123456\n",
            "123123\n"
          ],
          "name": "stdout"
        }
      ]
    },
    {
      "cell_type": "code",
      "metadata": {
        "colab": {
          "base_uri": "https://localhost:8080/"
        },
        "id": "JF3PHkbfxxTO",
        "outputId": "66e46e22-20c4-4910-bfe4-07cff634d655"
      },
      "source": [
        "In [2]: a = 11\n",
        "   ...: b = 3.8\n",
        "   ...: \n",
        "   ...: print(a + b)\n",
        "   ...: print(a - b)\n",
        "   ...: print(b * 2)\n",
        "   ...: print(b / 2)\n",
        "   ...: print(a % 3)\n",
        "   ...: print(a // 3)\n",
        "   ...: print(a ** 2)"
      ],
      "execution_count": 7,
      "outputs": [
        {
          "output_type": "stream",
          "text": [
            "14.8\n",
            "7.2\n",
            "7.6\n",
            "1.9\n",
            "2\n",
            "3\n",
            "121\n"
          ],
          "name": "stdout"
        }
      ]
    },
    {
      "cell_type": "code",
      "metadata": {
        "id": "IFrfY7eCyTrN"
      },
      "source": [
        ""
      ],
      "execution_count": null,
      "outputs": []
    }
  ]
}