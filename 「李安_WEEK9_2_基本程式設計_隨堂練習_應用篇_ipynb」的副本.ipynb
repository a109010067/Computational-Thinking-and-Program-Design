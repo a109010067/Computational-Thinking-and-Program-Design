{
  "nbformat": 4,
  "nbformat_minor": 0,
  "metadata": {
    "kernelspec": {
      "display_name": "Python 3",
      "language": "python",
      "name": "python3"
    },
    "language_info": {
      "codemirror_mode": {
        "name": "ipython",
        "version": 3
      },
      "file_extension": ".py",
      "mimetype": "text/x-python",
      "name": "python",
      "nbconvert_exporter": "python",
      "pygments_lexer": "ipython3",
      "version": "3.8.5"
    },
    "colab": {
      "name": "「李安-WEEK9-2-基本程式設計-隨堂練習-應用篇.ipynb」的副本",
      "provenance": [],
      "include_colab_link": true
    }
  },
  "cells": [
    {
      "cell_type": "markdown",
      "metadata": {
        "id": "view-in-github",
        "colab_type": "text"
      },
      "source": [
        "<a href=\"https://colab.research.google.com/github/a109010067/Computational-Thinking-and-Program-Design/blob/main/%E3%80%8C%E6%9D%8E%E5%AE%89_WEEK9_2_%E5%9F%BA%E6%9C%AC%E7%A8%8B%E5%BC%8F%E8%A8%AD%E8%A8%88_%E9%9A%A8%E5%A0%82%E7%B7%B4%E7%BF%92_%E6%87%89%E7%94%A8%E7%AF%87_ipynb%E3%80%8D%E7%9A%84%E5%89%AF%E6%9C%AC.ipynb\" target=\"_parent\"><img src=\"https://colab.research.google.com/assets/colab-badge.svg\" alt=\"Open In Colab\"/></a>"
      ]
    },
    {
      "cell_type": "markdown",
      "metadata": {
        "id": "aUZNxw9fjZJJ"
      },
      "source": [
        "# 基本程式設計(應用篇)"
      ]
    },
    {
      "cell_type": "markdown",
      "metadata": {
        "id": "vucVu66EjZJL"
      },
      "source": [
        "## 4. 應用練習"
      ]
    },
    {
      "cell_type": "markdown",
      "metadata": {
        "id": "-Owi9x7ajZJM"
      },
      "source": [
        "### 4-1 熟能生巧"
      ]
    },
    {
      "cell_type": "markdown",
      "metadata": {
        "id": "08H7DkFbjZJN"
      },
      "source": [
        "#### 範例4-1: 基本資料調查的輸入與輸出\n",
        "\n",
        "**寫一個程式**\n",
        "\n",
        "- 螢幕輸出「請問貴姓大名？」，等待輸入姓名，顯示輸入姓名在螢幕上。\n",
        "- 螢幕輸出「請問年紀？」，等待輸入年紀，顯示輸入年紀在螢幕上。\n",
        "- 螢幕輸出「請問體重？」，等待輸入體重，顯示輸入體重在螢幕上。"
      ]
    },
    {
      "cell_type": "markdown",
      "metadata": {
        "id": "sFKQ4L-MjZJN"
      },
      "source": [
        "In [1]: name = input('請問貴姓大名？') \n",
        "   ...: print('你好，', name)\n",
        "   ...: \n",
        "   ...: age = int(input('請問年紀？'))\n",
        "   ...: print('原來你', age ,'歲')\n",
        "   ...: \n",
        "   ...: weight = float(input('請問體重？'))\n",
        "   ...: print('體重為', weight)\n",
        "\n",
        "請問貴姓大名？Francis\n",
        "你好， Francis\n",
        "\n",
        "請問年紀？18\n",
        "原來你 18 歲\n",
        "\n",
        "請問體重？100\n",
        "體重為 100.0"
      ]
    },
    {
      "cell_type": "code",
      "metadata": {
        "id": "21x6P3sbjZJO"
      },
      "source": [
        ""
      ],
      "execution_count": null,
      "outputs": []
    },
    {
      "cell_type": "markdown",
      "metadata": {
        "id": "vJ54qZLsjZJO"
      },
      "source": [
        "#### 範例練習4-2： 計算圓面積與圓周長\n",
        "\n",
        "請設計一個程式計算圓面積與圓周長，依輸入的半徑計算圓面積與圓周長。"
      ]
    },
    {
      "cell_type": "code",
      "metadata": {
        "id": "c62UI948jZJR"
      },
      "source": [
        "In [1]: ## 給我半徑、用公式計算圓面積與周長\n",
        "   ...: ## Input\n",
        "   ...: radius = float(input('請輸入半徑？'))\n",
        "   ...: PI = 3.14159\n",
        "   ...: ## Process\n",
        "   ...: circumference = 2 * PI * radius\n",
        "   ...: area = radius * radius * PI\n",
        "   ...: ## Output\n",
        "   ...: print(f'圓周長為 {circumference}， 圓面積為 {area}。')\n",
        "\n",
        "請輸入半徑？10\n",
        "圓周長為 62.8318， 圓面積為 314.159。"
      ],
      "execution_count": null,
      "outputs": []
    },
    {
      "cell_type": "code",
      "metadata": {
        "id": "w-bfVef2jZJR"
      },
      "source": [
        ""
      ],
      "execution_count": null,
      "outputs": []
    },
    {
      "cell_type": "markdown",
      "metadata": {
        "id": "1u-weo0DjZJS"
      },
      "source": [
        "**隨堂練習: 求圓環的面積**\n",
        "\n",
        "輸入外圓直徑r1與內圓直徑r2，求圓環面積。"
      ]
    },
    {
      "cell_type": "code",
      "metadata": {
        "id": "ViQ1-NJKjZJS",
        "colab": {
          "base_uri": "https://localhost:8080/"
        },
        "outputId": "4e0e2217-1d95-490c-99c8-e3909327013a"
      },
      "source": [
        "r1 = eval(input(\"輸入外圓的直徑：\"))\n",
        "r2 = eval(input(\"輸入內圓的直徑：\"))\n",
        "s1 = 3.14 * r1/2 * r1/2\n",
        "s2 = 3.14 * r2/2 * r2/2\n",
        "s3 = s1 - s2\n",
        "print(\"外圓面積為\", s1)\n",
        "print(\"內圓面積為\", s2)\n",
        "print(\"圓環面積為\", s3)\n",
        "\n"
      ],
      "execution_count": null,
      "outputs": [
        {
          "output_type": "stream",
          "text": [
            "輸入外圓的直徑：5\n",
            "輸入內圓的直徑：3\n",
            "外圓面積為 19.625\n",
            "內圓面積為 7.0649999999999995\n",
            "圓環面積為 12.56\n"
          ],
          "name": "stdout"
        }
      ]
    },
    {
      "cell_type": "markdown",
      "metadata": {
        "id": "1l9umcPPjZJS"
      },
      "source": [
        "#### 範例練習4-3： 攝氏轉華氏\n",
        "\n",
        "請設計一個程式將輸入的攝氏溫度轉成華氏溫度，轉換公式如下:華氏溫度= 攝氏溫度*9/5+32"
      ]
    },
    {
      "cell_type": "code",
      "metadata": {
        "id": "fjCkdGfvjZJT"
      },
      "source": [
        "In [1]: ## Input\n",
        "   ...: c = float(input('請輸入攝氏溫度？')) \n",
        "   ...: \n",
        "   ...: ## Process\n",
        "   ...: f = c * 9/5 + 32                 \n",
        "   ...: \n",
        "   ...: ## Output\n",
        "   ...: print('華氏溫度為', f)\n",
        "\n",
        "請輸入攝氏溫度？30\n",
        "華氏溫度為 86.0\n",
        "\n",
        "In [2]: ## 延伸：華氏轉攝氏\n",
        "   ...: c1 = (f - 32) * (5/9)\n",
        "   ...: print(\"攝氏溫度\", c1)\n",
        "攝氏溫度 30.0"
      ],
      "execution_count": null,
      "outputs": []
    },
    {
      "cell_type": "code",
      "metadata": {
        "id": "U8BT4I2-jZJT"
      },
      "source": [
        ""
      ],
      "execution_count": null,
      "outputs": []
    },
    {
      "cell_type": "markdown",
      "metadata": {
        "id": "HX07wKLUjZJT"
      },
      "source": [
        "**隨堂練習 : 英制轉公制**\n",
        "\n",
        "將身高由英制改成公制，例如5尺8吋換算成公制，1尺等於12吋，1吋等於2.54公分，轉換公式為(5*12+8)*2.54等於172.72公分。\n",
        "\n",
        "～預覽結果\n",
        "\n",
        "輸入「5」尺，輸入「8」吋，計算結果顯示在螢幕如下。\n",
        "\n",
        "請輸入幾尺？5\n",
        "\n",
        "請輸入幾吋？8\n",
        "\n",
        "轉換成 172.72 公分"
      ]
    },
    {
      "cell_type": "code",
      "metadata": {
        "id": "AePXrVZvjZJU",
        "colab": {
          "base_uri": "https://localhost:8080/"
        },
        "outputId": "65cece80-7931-419b-ce00-da3359386d9d"
      },
      "source": [
        "f = int(input('請輸入幾尺？'))\n",
        "i = int(input('請輸入幾吋？'))\n",
        "ans = (f*12+i)*2.54\n",
        "print('轉換成', ans, '公分')\n"
      ],
      "execution_count": null,
      "outputs": [
        {
          "output_type": "stream",
          "text": [
            "請輸入幾尺？2\n",
            "請輸入幾吋？3\n",
            "轉換成 68.58 公分\n"
          ],
          "name": "stdout"
        }
      ]
    },
    {
      "cell_type": "markdown",
      "metadata": {
        "id": "GLvd1QFujZJU"
      },
      "source": [
        "#### 範例練習4-4:  服裝訂購系統\n",
        "\n",
        "**假設上衣300元、褲子350元與背心400元，使用者可以自行輸入三種服裝的數量，請設計一個程式計算訂購服裝的總金額。\n"
      ]
    },
    {
      "cell_type": "code",
      "metadata": {
        "id": "0gxIEDg6jZJU"
      },
      "source": [
        "In [1]: ## Total = P1*Q1 + P2*Q2 + P3*Q3\n",
        "   ...: ## Input Data\n",
        "   ...: cloth = int(input('請輸入上衣數量？')) \n",
        "   ...: trousers = int(input('請輸入褲子數量？'))\n",
        "   ...: vest = int(input('請輸入背心數量？'))\n",
        "   ...: ## Process\n",
        "   ...: total = cloth*300 + trousers*350 + vest*400\n",
        "   ...: ## Output\n",
        "   ...: print('訂購服裝的總金額為', total)\n",
        "\n",
        "請輸入上衣數量？10\n",
        "\n",
        "請輸入褲子數量？8\n",
        "\n",
        "請輸入背心數量？5\n",
        "訂購服裝的總金額為 7800"
      ],
      "execution_count": null,
      "outputs": []
    },
    {
      "cell_type": "code",
      "metadata": {
        "id": "Z7oAgudKjZJV"
      },
      "source": [
        ""
      ],
      "execution_count": null,
      "outputs": []
    },
    {
      "cell_type": "markdown",
      "metadata": {
        "id": "aiP4-rMNjZJV"
      },
      "source": [
        "####  範例練習4-5: 賣場買飲料\n",
        "\n",
        "**為了刺激銷售量，賣場通常買一打會比買一罐便宜，假設一罐賣20元，一打賣200元，請設計一個程式計算買幾罐需花多少錢，若不足一打就個別買。**\n",
        "\n",
        "～預覽結果\n",
        "輸入購買飲料的罐數，如「30」，計算結果顯示在螢幕如下。\n",
        "請輸入購買飲料的罐數？30\n",
        "需花費 520"
      ]
    },
    {
      "cell_type": "code",
      "metadata": {
        "id": "ua4_LBszjZJV"
      },
      "source": [
        "In [1]: ## Total = 200 * 幾打 ＋ 20 ＊ 罐\n",
        "   ...: ## Input Data\n",
        "   ...: cans = int(input('請輸入購買飲料的罐數？')) #數字轉文字\n",
        "   ...: ## Process\n",
        "   ...: total = (cans//12)*200 + (cans%12)*20\n",
        "   ...: ## Output\n",
        "   ...: print('需花費', total)\n",
        "\n",
        "請輸入購買飲料的罐數？124\n",
        "需花費 2080"
      ],
      "execution_count": null,
      "outputs": []
    },
    {
      "cell_type": "code",
      "metadata": {
        "id": "qWkJ4q6mjZJW",
        "colab": {
          "base_uri": "https://localhost:8080/"
        },
        "outputId": "4d4d38eb-b47d-4a13-cc60-c4798885b751"
      },
      "source": [
        "cans = int(input(\"How many\"))\n",
        "dozen = cans//12\n",
        "cans = cans%12\n",
        "total = 200 * dozen + 20 *cans\n",
        "print(f\"Total spending is {total}\")"
      ],
      "execution_count": 1,
      "outputs": [
        {
          "output_type": "stream",
          "text": [
            "How many5\n",
            "Total spending is 100\n"
          ],
          "name": "stdout"
        }
      ]
    },
    {
      "cell_type": "markdown",
      "metadata": {
        "id": "-oPUhRK7jZJW"
      },
      "source": [
        "#### 範例練習4-6：求三數總和與平均\n",
        "\n",
        "**求第一次期中考、第二次期中考與期末考成績，成績皆為整數，請計算分數的加總與平均。**\n",
        "\n",
        "～預覽結果\n",
        "第一次期中考輸入「75」，第二次期中考輸入「80」，期末考輸入「65」，計算結果顯示在螢幕。\n",
        "請輸入第一次期中考成績？75\n",
        "請輸入第二次期中考成績？80\n",
        "請輸入期末考成績？65\n",
        "總分為 220 平均為 73.33333333333333"
      ]
    },
    {
      "cell_type": "code",
      "metadata": {
        "id": "TqXcOvptjZJW"
      },
      "source": [
        "In [1]: ## 計算三次成績的總和與平均\n",
        "   ...: ## Input Data\n",
        "   ...: first = int(input('請輸入第一次期中考成績？'))\n",
        "   ...: second = int(input('請輸入第二次期中考成績？'))\n",
        "   ...: final = int(input('請輸入期末考成績？'))\n",
        "   ...: ## Process\n",
        "   ...: sum = first + second + final\n",
        "   ...: average = sum/3\n",
        "   ...: ## Output\n",
        "   ...: print('總分為', sum, '平均為', average)\n",
        "\n",
        "請輸入第一次期中考成績？66\n",
        "\n",
        "請輸入第二次期中考成績？88\n",
        "\n",
        "請輸入期末考成績？90\n",
        "總分為 244 平均為 81.33333333333333"
      ],
      "execution_count": null,
      "outputs": []
    },
    {
      "cell_type": "code",
      "metadata": {
        "id": "WqVPl797jZJX"
      },
      "source": [
        ""
      ],
      "execution_count": null,
      "outputs": []
    },
    {
      "cell_type": "markdown",
      "metadata": {
        "id": "lEHORSQcjZJX"
      },
      "source": [
        "**隨堂練習： 請計算NBA 史上最偉大的中鋒之一，「柴油引擎」俠客歐尼爾（Shaquille O’Neal）巔峰時期的BMI。\n",
        "當時他的身高(216cm)與體重(147kg)，而其所對應的身體質量指數公式為BMI ＝ 公斤 / 公尺平方。"
      ]
    },
    {
      "cell_type": "code",
      "metadata": {
        "id": "fiWc42_MjZJX"
      },
      "source": [
        "In [1]: player_name = input(\"請輸入球員姓名：\")\n",
        "   ...: player_height = input(\"請輸入球員身高（cm）：\")\n",
        "   ...: player_weight = input(\"請輸入球員體重（kg）：\")\n",
        "   ...: \n",
        "   ...: player_height = float(player_height)\n",
        "   ...: player_weight = float(player_weight)\n",
        "   ...: player_bmi = player_weight/(player_height*0.01)**2\n",
        "   ...: \n",
        "   ...: print(\"{}的身體質量指數為：{:.2f}\".format(player_name, player_bmi))\n",
        "   ...: print(player_name,'的身體質量指數為', player_bmi )\n",
        "\n",
        "請輸入球員姓名：Shaquille O’Neal\n",
        "\n",
        "請輸入球員身高（cm）：216\n",
        "\n",
        "請輸入球員體重（kg）：147\n",
        "Shaquille O’Neal的身體質量指數為：31.51\n",
        "Shaquille O’Neal 的身體質量指數為 31.507201646090532"
      ],
      "execution_count": null,
      "outputs": []
    },
    {
      "cell_type": "code",
      "metadata": {
        "id": "XYBAcBh8jZJX",
        "colab": {
          "base_uri": "https://localhost:8080/"
        },
        "outputId": "3612cf19-8881-4c45-f6c1-88c72d33db8c"
      },
      "source": [
        "height = 216\n",
        "weight = 147\n",
        "bmi = weight/(height/100)**2\n",
        "print(bmi)\n"
      ],
      "execution_count": 2,
      "outputs": [
        {
          "output_type": "stream",
          "text": [
            "31.507201646090532\n"
          ],
          "name": "stdout"
        }
      ]
    },
    {
      "cell_type": "markdown",
      "metadata": {
        "id": "hLwxq2fJjZJY"
      },
      "source": [
        "### 4-2 運算思維四個基石"
      ]
    },
    {
      "cell_type": "markdown",
      "metadata": {
        "id": "J-IN_caXjZJY"
      },
      "source": [
        "#### 4-2-1. 抽象化 - 電影魔球"
      ]
    },
    {
      "cell_type": "code",
      "metadata": {
        "id": "j2hWI7aajZJY"
      },
      "source": [
        "In [1]: ## 1. 從IMBD電影資料庫找出要記錄的魔球電影相關資訊\n",
        "   ...: ## 網址：https://www.imdb.com/title/tt1210166/\n",
        "   ...: ## 相關資訊：電影名稱、放映日期......\n",
        "   ...: \n",
        "   ...: ## 2. 在Python用變數儲存資訊\n",
        "   ...: movie_title = \"money ball\" # 電影名稱\n",
        "   ...: release_year = \"2011\"  # 放映日期\n",
        "   ...: movie_time_min = 133 # 片長\n",
        "   ...: movie_rating = 7.6 #評分\n",
        "   ...: \n",
        "   ...: director = \"Bennett Miller\" # 導演\n",
        "   ...: stars_1 = \"Brad Pitt\" #主要演員\n",
        "   ...: stars_2 = \"Robin Wright\"\n",
        "   ...: stars_3 = \"Jonah Hill\" \n",
        "   ...: \n",
        "   ...: like = 1 # 你喜不喜歡\n",
        "   ...: \n",
        "   ...: ## 3. 印出魔球電影的相關資訊\n",
        "   ...: print(movie_title)  # 螢幕列印\n",
        "   ...: print(release_year)\n",
        "   ...: print(movie_time_min)\n",
        "money ball\n",
        "2011\n",
        "133"
      ],
      "execution_count": null,
      "outputs": []
    },
    {
      "cell_type": "code",
      "metadata": {
        "id": "R8UzmXxrjZJY",
        "colab": {
          "base_uri": "https://localhost:8080/"
        },
        "outputId": "f5dcb82b-b1f4-427e-eaf7-e7e611d3d13f"
      },
      "source": [
        "movie_title = \"money ball\"\n",
        "release_year = \"2011\"\n",
        "movie_time_min =\"133\"\n",
        "movie_rating =\"7.6\" \n",
        "director = \"Bennett Miller\" \n",
        "stars_1 = \"Brad Pitt\"\n",
        "stars_2 = \"Robin Wright\" \n",
        "like = 1\n",
        "\n",
        "print(\"movie title = \", movie_title) \n",
        "print(\"release year = \", release_year )\n",
        "print(\"movie time min = \", movie_time_min)\n",
        "print(\"movie rating = \", movie_rating)\n",
        "print(\"director = \", director)\n",
        "print(\"stars1 = \", stars_1)\n",
        "print(\"stars2 = \", stars_2)\n",
        "print(\"like = \", bool(like))"
      ],
      "execution_count": 3,
      "outputs": [
        {
          "output_type": "stream",
          "text": [
            "movie title =  money ball\n",
            "release year =  2011\n",
            "movie time min =  133\n",
            "movie rating =  7.6\n",
            "director =  Bennett Miller\n",
            "stars1 =  Brad Pitt\n",
            "stars2 =  Robin Wright\n",
            "like =  True\n"
          ],
          "name": "stdout"
        }
      ]
    },
    {
      "cell_type": "markdown",
      "metadata": {
        "id": "Di3ZxphSjZJZ"
      },
      "source": [
        "#### 4-2-2.  演算法 - 時間轉換"
      ]
    },
    {
      "cell_type": "markdown",
      "metadata": {
        "id": "1CRdKI2HjZJZ"
      },
      "source": [
        "**請將123分鐘數轉換為幾小時幾分鐘。**"
      ]
    },
    {
      "cell_type": "code",
      "metadata": {
        "id": "yMCVEDOWjZJZ"
      },
      "source": [
        "In [5]: # 將123分鐘轉成2小時3分鐘\n",
        "   ...: ## 1. 建立變數，輸入資料並儲存\n",
        "   ...: time = 123\n",
        "   ...: \n",
        "   ...: ## 2. 方法（一）\n",
        "   ...: ## 變數轉換為小時數\n",
        "   ...: hours = time/60 # 123/60 = 2.05\n",
        "   ...: hours1 = int(hours) #取整數為「時」\n",
        "   ...: \n",
        "   ...: ## 取得轉換後的分鐘數\n",
        "   ...: minutes = hours1 - hours #2.05-2 = 0.05\n",
        "   ...: minutes1 = round(minutes*60) # 0.05*60 = 3，但要四捨五入 \n",
        "   ...: \n",
        "   ...: ## 3. 顯示結果\n",
        "   ...: print(time, \"is equal to\", hours1, \"Hours and\", minutes1, \"Minutes\")\n",
        "123 is equal to 2 Hours and -3 Minutes"
      ],
      "execution_count": null,
      "outputs": []
    },
    {
      "cell_type": "code",
      "metadata": {
        "id": "8rbaJCGgjZJa"
      },
      "source": [
        ""
      ],
      "execution_count": null,
      "outputs": []
    },
    {
      "cell_type": "code",
      "metadata": {
        "id": "ZmvmCTvSjZJa"
      },
      "source": [
        "In [6]: # 1. 建立變數，輸入資料並儲存\n",
        "   ...: time = 123\n",
        "   ...: \n",
        "   ...: # 2. 方法（二）運算子\n",
        "   ...: hours2 = time // 60  #商數為小時數\n",
        "   ...: minutes2 = time % 60  #餘數為分鐘數\n",
        "   ...: \n",
        "   ...: # 3. 顯示結果\n",
        "   ...: print(time, \"is equal to\", hours2, \"Hours and\", minutes2, \"Minutes\")\n",
        "123 is equal to 2 Hours and 3 Minutes\n"
      ],
      "execution_count": null,
      "outputs": []
    },
    {
      "cell_type": "code",
      "metadata": {
        "id": "w4ffPPB_jZJa"
      },
      "source": [
        ""
      ],
      "execution_count": null,
      "outputs": []
    },
    {
      "cell_type": "markdown",
      "metadata": {
        "id": "QkKLvUoNjZJb"
      },
      "source": [
        "#### 4-2-3. 模式辨識 - 報告分組"
      ]
    },
    {
      "cell_type": "markdown",
      "metadata": {
        "id": "4EhT5Au3jZJb"
      },
      "source": [
        "**範例說明：報告分組**\n",
        "\n",
        "因為教學需求，全班40位同學要進行分組報告，每五位同學一組，老師規定依座號順序分組，也就是1號到5號一組，6號到10號一組，請寫一個程式允許使用者輸入座號，輸出分組的組別。"
      ]
    },
    {
      "cell_type": "code",
      "metadata": {
        "id": "0yWEEMBQjZJb"
      },
      "source": [
        "～預覽結果\n",
        "輸入座號，例如「19」，計算結果顯示在螢幕如下。\n",
        "請輸入座號？19\n",
        "組別為 4\n",
        "\n",
        "～運算思維：模式辨識\n",
        "\n",
        "1 ，1/5 ......= 0.2  -> 商數0餘數1 ->  0,0\n",
        "\n",
        "2，2/5 ......= 0.4   -> 商數0餘數2 ->  0,1\n",
        "\n",
        "3，3/5 ......= 0.6   ->  商數0餘數3 -> 0,2\n",
        "\n",
        "4， 4/5 ......= 0.8  ->  商數0餘數4 -> 0,3\n",
        "\n",
        "5，5/5 ...... = 1     ->  商數1餘數0 -> 0,4"
      ],
      "execution_count": null,
      "outputs": []
    },
    {
      "cell_type": "code",
      "metadata": {
        "id": "Q_0N68S2jZJb"
      },
      "source": [
        "## 運算思維 - 模式辨識\n",
        "## 方法（一）：餘數位置從0開始 + 商數為組數\n",
        "seats = int(input('請輸入座號？')) #文字轉數字\n",
        "groups = (seats - 1)//5 + 1\n",
        "print('組別為', groups)\n",
        "\n",
        "## 方法（二）：函式（上限為組別）\n",
        "import math\n",
        "seats = int(input(\"請輸入座號？\"))\n",
        "groups = math.ceil(seats/5)\n",
        "print(\"組別為\",groups)\n",
        "\n",
        "## 方法（三）：用餘數為條件分組\n",
        "seats = int(input(\"請輸入座號？ \"))\n",
        "if seats%5 == 0:\n",
        "    print(\"組別為\", seats//5)\n",
        "else:\n",
        "    print(\"組別為\", seats//5 +1)"
      ],
      "execution_count": null,
      "outputs": []
    },
    {
      "cell_type": "code",
      "metadata": {
        "id": "bAPhRrE9jZJc"
      },
      "source": [
        ""
      ],
      "execution_count": null,
      "outputs": []
    },
    {
      "cell_type": "markdown",
      "metadata": {
        "id": "MRxo_0y_jZJc"
      },
      "source": [
        "#### 4-2-4  問題拆解 - 打造你的聊天機器人"
      ]
    },
    {
      "cell_type": "markdown",
      "metadata": {
        "id": "rFHO5LqejZJc"
      },
      "source": [
        "「哈囉，大家好。我叫Zyxo64，是一個聊天機器人。\n",
        "\n",
        "在嗜好與興趣方面，我很喜歡美食，也喜歡養動物。\n",
        "\n",
        "很高興有機會來到世新大學，請大家多多指教。\n",
        "\n",
        "嗨！妳好，請問大名？：**Francis**。\n",
        "\n",
        "*Francis*，很高興認識你。\n",
        "\n",
        "抱歉，請問一下今年是西元2021年，那是民國幾年呢？：*110*。\n",
        "\n",
        "對！沒錯，謝謝妳！\n",
        "\n",
        "**Francis**，猜猜看我今年幾歲？ ：**18**。\n",
        "\n",
        "哇！你好聰明，我今年的確*18*。\n",
        "\n",
        "再82年我就100歲了。\n",
        "\n",
        "那時候是西元 2103年，也就是民國192年囉！\n",
        "\n",
        "我喜歡吃巧克力，也喜歡嘗試各種新食物。\n",
        "\n",
        "你呢？你最喜歡的食物是什麼？**:披薩**。\n",
        "\n",
        "我也喜歡 *披薩*。\n",
        "\n",
        "你多久吃一次 *披薩*？**：每天**。\n",
        "\n",
        "真有趣。不知道這樣對健康好不好。\n",
        "\n",
        "我最喜歡的動物是長頸鹿。你呢？ **：烏龜**。\n",
        "\n",
        "我不喜歡*烏龜*！\n",
        "\n",
        "不知道 *烏龜* 喜不喜歡吃 *披薩*？\n",
        "\n",
        "你今天的心情如何？ **：很開心**。\n",
        "\n",
        "可以告訴我你 *開心* 的原因嗎？**因為週末了！** \n",
        "\n",
        "祝你週末愉快！\n",
        "\n",
        "我喜歡跟你聊天，現在有點累了，改天再聊吧！！\n",
        "\n",
        "再見 *Francis*！！！"
      ]
    },
    {
      "cell_type": "code",
      "metadata": {
        "id": "mPsl1G2cjZJd"
      },
      "source": [
        "# 1.聊天機器人自我介紹\n",
        "print(\"哈囉，大家好。我叫Zyxo64，是一個聊天機器人。\")\n",
        "hobby = \"我很喜歡美食東西，也喜歡養動物。今天很高興有機會來到世新大學，請大家多多指教。\"\n",
        "print( hobby )\n",
        "\n",
        "# 2. 打招呼，取得對方名字\n",
        "name = input(\"嗨！妳好，請問大名？: \")\n",
        "print(\"你好\", name, \"很高興認識你\")\n",
        "\n",
        "# 3. 數學運算\n",
        "## 3-1 從使用者取得今年年份\n",
        "year = input(\"請問一下今年是西元2021年，那是民國幾年呢？ \")\n",
        "print(\"對！應該沒錯，謝謝妳！\")\n",
        "\n",
        "## 3-2 請使用者猜年齡\n",
        "myage = int(input(\"Francis，猜猜看我今年幾歲？ \"))\n",
        "print(\"哇！你好聰明，我今年的確\", myage)\n",
        "\n",
        "## 3-3 計算聊天機器人滿100歲的年份\n",
        "nyears = 100 - myage\n",
        "print(\"我再\", nyears, \"年就滿100歲了。\")\n",
        "\n",
        "print(\"到時候是西元\", int(year) + nyears + 1911, \"年\") # 將今年年份轉換為整數\n",
        "print(\"也就是民國\", int(year) + nyear, \"年\") # 民國幾年"
      ],
      "execution_count": null,
      "outputs": []
    },
    {
      "cell_type": "code",
      "metadata": {
        "id": "7IGoyJR4jZJd"
      },
      "source": [
        ""
      ],
      "execution_count": null,
      "outputs": []
    },
    {
      "cell_type": "code",
      "metadata": {
        "id": "iJe10jg9jZJd"
      },
      "source": [
        "# 4 興趣\n",
        "## 4-1 食物話題\n",
        "print(\"我喜歡巧克力，也喜歡嘗試各種新食物。\")\n",
        "food = input(\"你呢。你最喜歡的食物是什麼？： \")\n",
        "print(\"我也喜歡\", food)\n",
        "question = \"你多久吃一次\" + food + \"?: \"\n",
        "howoften = input(question)\n",
        "print(\"真有趣。不知道這樣對健康好不好！\")\n",
        "\n",
        "## 4-2 動物話題\n",
        "animal = input(\"我最喜歡的動物是長頸鹿。你呢？； \")\n",
        "print(\"我不喜歡\", animal)\n",
        "print(\"不知道\", animal, \"喜不喜歡吃\", food, \"?\")\n",
        "\n",
        "# 5. 關於心情的對話\n",
        "feeling = input(\"你今天心情如何？； \")\n",
        "print(\"可以告訴我，你\", feeling, \"的原因。 \")\n",
        "reason = input(\"為什麼： \")\n",
        "print(\"我知道了。謝謝分享。\")\n",
        "\n",
        "# 6. 道別\n",
        "print(\"祝你週末愉快！\")\n",
        "print(\"我喜歡跟你聊天，現在有點累了，下次再聊!!\")\n",
        "print(\"再見\", name, \"我喜歡跟你聊天！\")\n"
      ],
      "execution_count": null,
      "outputs": []
    },
    {
      "cell_type": "code",
      "metadata": {
        "id": "r1j9tmM8jZJd"
      },
      "source": [
        ""
      ],
      "execution_count": null,
      "outputs": []
    }
  ]
}